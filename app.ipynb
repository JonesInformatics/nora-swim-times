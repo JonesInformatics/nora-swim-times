{
 "metadata": {
  "language_info": {
   "codemirror_mode": {
    "name": "ipython",
    "version": 3
   },
   "file_extension": ".py",
   "mimetype": "text/x-python",
   "name": "python",
   "nbconvert_exporter": "python",
   "pygments_lexer": "ipython3",
   "version": "3.8.3"
  },
  "orig_nbformat": 2,
  "kernelspec": {
   "name": "python383jvsc74a57bd02f055b12a15bc2dfb7529c0c6187f0771e54f5028f8503e224fe70e7f68ca49a",
   "display_name": "Python 3.8.3 64-bit ('base': conda)"
  }
 },
 "nbformat": 4,
 "nbformat_minor": 2,
 "cells": [
  {
   "cell_type": "code",
   "execution_count": 5,
   "metadata": {},
   "outputs": [],
   "source": [
    "import plotly\n",
    "import plotly.express as px\n",
    "import pandas as pd\n",
    "pd.set_option('mode.chained_assignment', None)\n",
    "import chart_studio\n",
    "import chart_studio.plotly as py\n",
    "username = 'lizbaconj' # your username\n",
    "api_key = 'Tr0gU96pS5FJSTnlkROX' # your api key - go to profile > settings > regenerate key\n",
    "\n",
    "chart_studio.tools.set_credentials_file(username=username, api_key=api_key)"
   ]
  },
  {
   "cell_type": "code",
   "execution_count": null,
   "metadata": {},
   "outputs": [],
   "source": []
  },
  {
   "source": [
    "## divide up df"
   ],
   "cell_type": "markdown",
   "metadata": {}
  },
  {
   "cell_type": "code",
   "execution_count": 6,
   "metadata": {},
   "outputs": [],
   "source": [
    "df = pd.read_csv(\"nora_2019_2020_minutes.csv\")\n",
    "df['datetime'] = pd.to_datetime(df['Time'])\n",
    "df['dt_date'] = pd.to_datetime(df['Swim Date'])\n",
    "df = df[['Event','Time','Meet','datetime','dt_date','Swim Date']]"
   ]
  },
  {
   "cell_type": "code",
   "execution_count": 35,
   "metadata": {},
   "outputs": [
    {
     "output_type": "execute_result",
     "data": {
      "text/plain": [
       "     Event     Time                            Meet            datetime  \\\n",
       "0   100 FR  01:28.4   2019 WY JHSR Fall in the Hole 2021-04-27 01:28:24   \n",
       "1   100 FR  01:30.1    2020 UT CHAT After State Inv 2021-04-27 01:30:06   \n",
       "2   100 FR  01:34.4      2019 UT Legendary Pop Pent 2021-04-27 01:34:24   \n",
       "3   200 FR  03:11.4    2019 UT SDAT Grand Challenge 2021-04-27 03:11:24   \n",
       "4   200 FR  03:14.6    2019 UT SDAT Grand Challenge 2021-04-27 03:14:36   \n",
       "5   200 FR  03:25.0   2019 WY JHSR Fall in the Hole 2021-04-27 03:25:00   \n",
       "6   500 FR  08:37.0        2019 UT SLSL IM Iron Man 2021-04-27 08:37:00   \n",
       "7   500 FR  09:14.4   2019 WY JHSR Fall in the Hole 2021-04-27 09:14:24   \n",
       "8   100 BK  01:37.1    2019 UT SDAT Grand Challenge 2021-04-27 01:37:06   \n",
       "9   100 BK  01:38.2    2019 UT SDAT Grand Challenge 2021-04-27 01:38:12   \n",
       "10  100 BK  01:43.1       2019 UT WSC Mile High Inv 2021-04-27 01:43:06   \n",
       "11  100 BK  01:45.8        2019 UT SLSL IM Iron Man 2021-04-27 01:45:48   \n",
       "12  200 BK  03:31.6  2020 UT Legendary Duel in Pira 2021-04-27 03:31:36   \n",
       "13   50 BR  01:01.3   2019 WY JHSR Fall in the Hole 2021-04-27 01:01:18   \n",
       "14   50 BR  01:02.5      2019 UT Legendary Pop Pent 2021-04-27 01:02:30   \n",
       "15  100 BR  02:11.9  2020 UT Legendary Duel in Pira 2021-04-27 02:11:54   \n",
       "16  100 BR  02:15.5       2019 UT WSC Mile High Inv 2021-04-27 02:15:30   \n",
       "17  100 BR  02:15.6        2019 UT SLSL IM Iron Man 2021-04-27 02:15:36   \n",
       "18  200 BR  04:17.6  2020 UT Legendary Duel in Pira 2021-04-27 04:17:36   \n",
       "19  100 FL  01:44.6    2020 UT CHAT After State Inv 2021-04-27 01:44:36   \n",
       "20  100 FL  01:44.9        2019 UT SLSL IM Iron Man 2021-04-27 01:44:54   \n",
       "21  100 FL  01:48.5   2019 WY JHSR Fall in the Hole 2021-04-27 01:48:30   \n",
       "22  200 FL  03:48.2       2019 UT WSC Mile High Inv 2021-04-27 03:48:12   \n",
       "23  100 IM  01:42.3    2019 UT SDAT Grand Challenge 2021-04-27 01:42:18   \n",
       "24  100 IM  01:45.0    2019 UT SDAT Grand Challenge 2021-04-27 01:45:00   \n",
       "25  100 IM  01:47.5   2019 WY JHSR Fall in the Hole 2021-04-27 01:47:30   \n",
       "26  200 IM  03:44.0      2019 UT Legendary Pop Pent 2021-04-27 03:44:00   \n",
       "27  200 IM  03:53.0        2019 UT SLSL IM Iron Man 2021-04-27 03:53:00   \n",
       "28  200 IM  03:55.5   2019 WY JHSR Fall in the Hole 2021-04-27 03:55:30   \n",
       "29  400 IM  07:27.3    2020 UT CHAT After State Inv 2021-04-27 07:27:18   \n",
       "\n",
       "      dt_date  \n",
       "0  2019-11-10  \n",
       "1  2020-02-16  \n",
       "2  2019-10-12  \n",
       "3  2019-12-21  \n",
       "4  2019-12-21  \n",
       "5  2019-11-10  \n",
       "6  2019-12-06  \n",
       "7  2019-11-10  \n",
       "8  2019-12-21  \n",
       "9  2019-12-21  \n",
       "10 2019-10-25  \n",
       "11 2019-12-07  \n",
       "12 2020-02-15  \n",
       "13 2019-11-09  \n",
       "14 2019-10-12  \n",
       "15 2020-02-15  \n",
       "16 2019-10-26  \n",
       "17 2019-12-07  \n",
       "18 2020-02-15  \n",
       "19 2020-02-16  \n",
       "20 2019-12-06  \n",
       "21 2019-11-10  \n",
       "22 2019-10-26  \n",
       "23 2019-12-19  \n",
       "24 2019-12-19  \n",
       "25 2019-11-09  \n",
       "26 2019-10-12  \n",
       "27 2019-12-07  \n",
       "28 2019-11-10  \n",
       "29 2020-02-16  "
      ],
      "text/html": "<div>\n<style scoped>\n    .dataframe tbody tr th:only-of-type {\n        vertical-align: middle;\n    }\n\n    .dataframe tbody tr th {\n        vertical-align: top;\n    }\n\n    .dataframe thead th {\n        text-align: right;\n    }\n</style>\n<table border=\"1\" class=\"dataframe\">\n  <thead>\n    <tr style=\"text-align: right;\">\n      <th></th>\n      <th>Event</th>\n      <th>Time</th>\n      <th>Meet</th>\n      <th>datetime</th>\n      <th>dt_date</th>\n    </tr>\n  </thead>\n  <tbody>\n    <tr>\n      <th>0</th>\n      <td>100 FR</td>\n      <td>01:28.4</td>\n      <td>2019 WY JHSR Fall in the Hole</td>\n      <td>2021-04-27 01:28:24</td>\n      <td>2019-11-10</td>\n    </tr>\n    <tr>\n      <th>1</th>\n      <td>100 FR</td>\n      <td>01:30.1</td>\n      <td>2020 UT CHAT After State Inv</td>\n      <td>2021-04-27 01:30:06</td>\n      <td>2020-02-16</td>\n    </tr>\n    <tr>\n      <th>2</th>\n      <td>100 FR</td>\n      <td>01:34.4</td>\n      <td>2019 UT Legendary Pop Pent</td>\n      <td>2021-04-27 01:34:24</td>\n      <td>2019-10-12</td>\n    </tr>\n    <tr>\n      <th>3</th>\n      <td>200 FR</td>\n      <td>03:11.4</td>\n      <td>2019 UT SDAT Grand Challenge</td>\n      <td>2021-04-27 03:11:24</td>\n      <td>2019-12-21</td>\n    </tr>\n    <tr>\n      <th>4</th>\n      <td>200 FR</td>\n      <td>03:14.6</td>\n      <td>2019 UT SDAT Grand Challenge</td>\n      <td>2021-04-27 03:14:36</td>\n      <td>2019-12-21</td>\n    </tr>\n    <tr>\n      <th>5</th>\n      <td>200 FR</td>\n      <td>03:25.0</td>\n      <td>2019 WY JHSR Fall in the Hole</td>\n      <td>2021-04-27 03:25:00</td>\n      <td>2019-11-10</td>\n    </tr>\n    <tr>\n      <th>6</th>\n      <td>500 FR</td>\n      <td>08:37.0</td>\n      <td>2019 UT SLSL IM Iron Man</td>\n      <td>2021-04-27 08:37:00</td>\n      <td>2019-12-06</td>\n    </tr>\n    <tr>\n      <th>7</th>\n      <td>500 FR</td>\n      <td>09:14.4</td>\n      <td>2019 WY JHSR Fall in the Hole</td>\n      <td>2021-04-27 09:14:24</td>\n      <td>2019-11-10</td>\n    </tr>\n    <tr>\n      <th>8</th>\n      <td>100 BK</td>\n      <td>01:37.1</td>\n      <td>2019 UT SDAT Grand Challenge</td>\n      <td>2021-04-27 01:37:06</td>\n      <td>2019-12-21</td>\n    </tr>\n    <tr>\n      <th>9</th>\n      <td>100 BK</td>\n      <td>01:38.2</td>\n      <td>2019 UT SDAT Grand Challenge</td>\n      <td>2021-04-27 01:38:12</td>\n      <td>2019-12-21</td>\n    </tr>\n    <tr>\n      <th>10</th>\n      <td>100 BK</td>\n      <td>01:43.1</td>\n      <td>2019 UT WSC Mile High Inv</td>\n      <td>2021-04-27 01:43:06</td>\n      <td>2019-10-25</td>\n    </tr>\n    <tr>\n      <th>11</th>\n      <td>100 BK</td>\n      <td>01:45.8</td>\n      <td>2019 UT SLSL IM Iron Man</td>\n      <td>2021-04-27 01:45:48</td>\n      <td>2019-12-07</td>\n    </tr>\n    <tr>\n      <th>12</th>\n      <td>200 BK</td>\n      <td>03:31.6</td>\n      <td>2020 UT Legendary Duel in Pira</td>\n      <td>2021-04-27 03:31:36</td>\n      <td>2020-02-15</td>\n    </tr>\n    <tr>\n      <th>13</th>\n      <td>50 BR</td>\n      <td>01:01.3</td>\n      <td>2019 WY JHSR Fall in the Hole</td>\n      <td>2021-04-27 01:01:18</td>\n      <td>2019-11-09</td>\n    </tr>\n    <tr>\n      <th>14</th>\n      <td>50 BR</td>\n      <td>01:02.5</td>\n      <td>2019 UT Legendary Pop Pent</td>\n      <td>2021-04-27 01:02:30</td>\n      <td>2019-10-12</td>\n    </tr>\n    <tr>\n      <th>15</th>\n      <td>100 BR</td>\n      <td>02:11.9</td>\n      <td>2020 UT Legendary Duel in Pira</td>\n      <td>2021-04-27 02:11:54</td>\n      <td>2020-02-15</td>\n    </tr>\n    <tr>\n      <th>16</th>\n      <td>100 BR</td>\n      <td>02:15.5</td>\n      <td>2019 UT WSC Mile High Inv</td>\n      <td>2021-04-27 02:15:30</td>\n      <td>2019-10-26</td>\n    </tr>\n    <tr>\n      <th>17</th>\n      <td>100 BR</td>\n      <td>02:15.6</td>\n      <td>2019 UT SLSL IM Iron Man</td>\n      <td>2021-04-27 02:15:36</td>\n      <td>2019-12-07</td>\n    </tr>\n    <tr>\n      <th>18</th>\n      <td>200 BR</td>\n      <td>04:17.6</td>\n      <td>2020 UT Legendary Duel in Pira</td>\n      <td>2021-04-27 04:17:36</td>\n      <td>2020-02-15</td>\n    </tr>\n    <tr>\n      <th>19</th>\n      <td>100 FL</td>\n      <td>01:44.6</td>\n      <td>2020 UT CHAT After State Inv</td>\n      <td>2021-04-27 01:44:36</td>\n      <td>2020-02-16</td>\n    </tr>\n    <tr>\n      <th>20</th>\n      <td>100 FL</td>\n      <td>01:44.9</td>\n      <td>2019 UT SLSL IM Iron Man</td>\n      <td>2021-04-27 01:44:54</td>\n      <td>2019-12-06</td>\n    </tr>\n    <tr>\n      <th>21</th>\n      <td>100 FL</td>\n      <td>01:48.5</td>\n      <td>2019 WY JHSR Fall in the Hole</td>\n      <td>2021-04-27 01:48:30</td>\n      <td>2019-11-10</td>\n    </tr>\n    <tr>\n      <th>22</th>\n      <td>200 FL</td>\n      <td>03:48.2</td>\n      <td>2019 UT WSC Mile High Inv</td>\n      <td>2021-04-27 03:48:12</td>\n      <td>2019-10-26</td>\n    </tr>\n    <tr>\n      <th>23</th>\n      <td>100 IM</td>\n      <td>01:42.3</td>\n      <td>2019 UT SDAT Grand Challenge</td>\n      <td>2021-04-27 01:42:18</td>\n      <td>2019-12-19</td>\n    </tr>\n    <tr>\n      <th>24</th>\n      <td>100 IM</td>\n      <td>01:45.0</td>\n      <td>2019 UT SDAT Grand Challenge</td>\n      <td>2021-04-27 01:45:00</td>\n      <td>2019-12-19</td>\n    </tr>\n    <tr>\n      <th>25</th>\n      <td>100 IM</td>\n      <td>01:47.5</td>\n      <td>2019 WY JHSR Fall in the Hole</td>\n      <td>2021-04-27 01:47:30</td>\n      <td>2019-11-09</td>\n    </tr>\n    <tr>\n      <th>26</th>\n      <td>200 IM</td>\n      <td>03:44.0</td>\n      <td>2019 UT Legendary Pop Pent</td>\n      <td>2021-04-27 03:44:00</td>\n      <td>2019-10-12</td>\n    </tr>\n    <tr>\n      <th>27</th>\n      <td>200 IM</td>\n      <td>03:53.0</td>\n      <td>2019 UT SLSL IM Iron Man</td>\n      <td>2021-04-27 03:53:00</td>\n      <td>2019-12-07</td>\n    </tr>\n    <tr>\n      <th>28</th>\n      <td>200 IM</td>\n      <td>03:55.5</td>\n      <td>2019 WY JHSR Fall in the Hole</td>\n      <td>2021-04-27 03:55:30</td>\n      <td>2019-11-10</td>\n    </tr>\n    <tr>\n      <th>29</th>\n      <td>400 IM</td>\n      <td>07:27.3</td>\n      <td>2020 UT CHAT After State Inv</td>\n      <td>2021-04-27 07:27:18</td>\n      <td>2020-02-16</td>\n    </tr>\n  </tbody>\n</table>\n</div>"
     },
     "metadata": {},
     "execution_count": 35
    }
   ],
   "source": []
  },
  {
   "cell_type": "code",
   "execution_count": 7,
   "metadata": {},
   "outputs": [],
   "source": [
    "grouped = df.groupby(df.Event)\n",
    "free_100 = grouped.get_group(\"100 FR\")\n",
    "free_200 = grouped.get_group(\"200 FR\")\n",
    "im_100 = grouped.get_group(\"100 FR\")\n",
    "im_200 = grouped.get_group('200 FR')"
   ]
  },
  {
   "source": [
    "datetime function"
   ],
   "cell_type": "markdown",
   "metadata": {}
  },
  {
   "cell_type": "code",
   "execution_count": 8,
   "metadata": {},
   "outputs": [
    {
     "output_type": "execute_result",
     "data": {
      "text/plain": [
       "    Event     Time                           Meet            datetime  \\\n",
       "2  100 FR  01:34.4     2019 UT Legendary Pop Pent 2021-04-27 01:34:24   \n",
       "0  100 FR  01:28.4  2019 WY JHSR Fall in the Hole 2021-04-27 01:28:24   \n",
       "1  100 FR  01:30.1   2020 UT CHAT After State Inv 2021-04-27 01:30:06   \n",
       "\n",
       "     dt_date   Swim Date swim_date_dt  \n",
       "2 2019-10-12  10/12/2019   2019-10-12  \n",
       "0 2019-11-10  11/10/2019   2019-11-10  \n",
       "1 2020-02-16   2/16/2020   2020-02-16  "
      ],
      "text/html": "<div>\n<style scoped>\n    .dataframe tbody tr th:only-of-type {\n        vertical-align: middle;\n    }\n\n    .dataframe tbody tr th {\n        vertical-align: top;\n    }\n\n    .dataframe thead th {\n        text-align: right;\n    }\n</style>\n<table border=\"1\" class=\"dataframe\">\n  <thead>\n    <tr style=\"text-align: right;\">\n      <th></th>\n      <th>Event</th>\n      <th>Time</th>\n      <th>Meet</th>\n      <th>datetime</th>\n      <th>dt_date</th>\n      <th>Swim Date</th>\n      <th>swim_date_dt</th>\n    </tr>\n  </thead>\n  <tbody>\n    <tr>\n      <th>2</th>\n      <td>100 FR</td>\n      <td>01:34.4</td>\n      <td>2019 UT Legendary Pop Pent</td>\n      <td>2021-04-27 01:34:24</td>\n      <td>2019-10-12</td>\n      <td>10/12/2019</td>\n      <td>2019-10-12</td>\n    </tr>\n    <tr>\n      <th>0</th>\n      <td>100 FR</td>\n      <td>01:28.4</td>\n      <td>2019 WY JHSR Fall in the Hole</td>\n      <td>2021-04-27 01:28:24</td>\n      <td>2019-11-10</td>\n      <td>11/10/2019</td>\n      <td>2019-11-10</td>\n    </tr>\n    <tr>\n      <th>1</th>\n      <td>100 FR</td>\n      <td>01:30.1</td>\n      <td>2020 UT CHAT After State Inv</td>\n      <td>2021-04-27 01:30:06</td>\n      <td>2020-02-16</td>\n      <td>2/16/2020</td>\n      <td>2020-02-16</td>\n    </tr>\n  </tbody>\n</table>\n</div>"
     },
     "metadata": {},
     "execution_count": 8
    }
   ],
   "source": [
    "def convert_dt(x):\n",
    "    '''function to convert time field to datetime'''\n",
    "    #df = pd.read_csv(x)\n",
    "    x['datetime'] = pd.to_datetime(x['Time'])\n",
    "    x['swim_date_dt'] = pd.to_datetime(x['Swim Date'])\n",
    "    x = x.sort_values(by = \"swim_date_dt\")\n",
    "    return x\n",
    "    \n",
    "#convert_dt(free_100)"
   ]
  },
  {
   "source": [
    "# 100 Free"
   ],
   "cell_type": "markdown",
   "metadata": {}
  },
  {
   "cell_type": "code",
   "execution_count": 15,
   "metadata": {},
   "outputs": [
    {
     "output_type": "execute_result",
     "data": {
      "text/plain": [
       "    Event     Time                           Meet            datetime  \\\n",
       "2  100 FR  01:34.4     2019 UT Legendary Pop Pent 2021-04-27 01:34:24   \n",
       "0  100 FR  01:28.4  2019 WY JHSR Fall in the Hole 2021-04-27 01:28:24   \n",
       "1  100 FR  01:30.1   2020 UT CHAT After State Inv 2021-04-27 01:30:06   \n",
       "\n",
       "     dt_date   Swim Date swim_date_dt  \n",
       "2 2019-10-12  10/12/2019   2019-10-12  \n",
       "0 2019-11-10  11/10/2019   2019-11-10  \n",
       "1 2020-02-16   2/16/2020   2020-02-16  "
      ],
      "text/html": "<div>\n<style scoped>\n    .dataframe tbody tr th:only-of-type {\n        vertical-align: middle;\n    }\n\n    .dataframe tbody tr th {\n        vertical-align: top;\n    }\n\n    .dataframe thead th {\n        text-align: right;\n    }\n</style>\n<table border=\"1\" class=\"dataframe\">\n  <thead>\n    <tr style=\"text-align: right;\">\n      <th></th>\n      <th>Event</th>\n      <th>Time</th>\n      <th>Meet</th>\n      <th>datetime</th>\n      <th>dt_date</th>\n      <th>Swim Date</th>\n      <th>swim_date_dt</th>\n    </tr>\n  </thead>\n  <tbody>\n    <tr>\n      <th>2</th>\n      <td>100 FR</td>\n      <td>01:34.4</td>\n      <td>2019 UT Legendary Pop Pent</td>\n      <td>2021-04-27 01:34:24</td>\n      <td>2019-10-12</td>\n      <td>10/12/2019</td>\n      <td>2019-10-12</td>\n    </tr>\n    <tr>\n      <th>0</th>\n      <td>100 FR</td>\n      <td>01:28.4</td>\n      <td>2019 WY JHSR Fall in the Hole</td>\n      <td>2021-04-27 01:28:24</td>\n      <td>2019-11-10</td>\n      <td>11/10/2019</td>\n      <td>2019-11-10</td>\n    </tr>\n    <tr>\n      <th>1</th>\n      <td>100 FR</td>\n      <td>01:30.1</td>\n      <td>2020 UT CHAT After State Inv</td>\n      <td>2021-04-27 01:30:06</td>\n      <td>2020-02-16</td>\n      <td>2/16/2020</td>\n      <td>2020-02-16</td>\n    </tr>\n  </tbody>\n</table>\n</div>"
     },
     "metadata": {},
     "execution_count": 15
    }
   ],
   "source": [
    "free_100 = convert_dt(free_100)\n",
    "free_100"
   ]
  },
  {
   "source": [
    "# 200 Free"
   ],
   "cell_type": "markdown",
   "metadata": {}
  },
  {
   "cell_type": "code",
   "execution_count": 14,
   "metadata": {},
   "outputs": [],
   "source": [
    "free_200 = convert_dt(free_200)"
   ]
  },
  {
   "source": [
    "# 100 IM"
   ],
   "cell_type": "markdown",
   "metadata": {}
  },
  {
   "cell_type": "code",
   "execution_count": 13,
   "metadata": {},
   "outputs": [],
   "source": [
    "im_100 = convert_dt(im_100)"
   ]
  },
  {
   "source": [
    "# 200 IM"
   ],
   "cell_type": "markdown",
   "metadata": {}
  },
  {
   "cell_type": "code",
   "execution_count": 12,
   "metadata": {},
   "outputs": [],
   "source": [
    "im_200 = convert_dt(im_200)"
   ]
  },
  {
   "cell_type": "code",
   "execution_count": 9,
   "metadata": {},
   "outputs": [
    {
     "output_type": "execute_result",
     "data": {
      "text/plain": [
       "    Event     Time                           Meet            datetime  \\\n",
       "2  100 FR  01:34.4     2019 UT Legendary Pop Pent 2021-04-27 01:34:24   \n",
       "0  100 FR  01:28.4  2019 WY JHSR Fall in the Hole 2021-04-27 01:28:24   \n",
       "1  100 FR  01:30.1   2020 UT CHAT After State Inv 2021-04-27 01:30:06   \n",
       "\n",
       "     dt_date   Swim Date swim_date_dt  \n",
       "2 2019-10-12  10/12/2019   2019-10-12  \n",
       "0 2019-11-10  11/10/2019   2019-11-10  \n",
       "1 2020-02-16   2/16/2020   2020-02-16  "
      ],
      "text/html": "<div>\n<style scoped>\n    .dataframe tbody tr th:only-of-type {\n        vertical-align: middle;\n    }\n\n    .dataframe tbody tr th {\n        vertical-align: top;\n    }\n\n    .dataframe thead th {\n        text-align: right;\n    }\n</style>\n<table border=\"1\" class=\"dataframe\">\n  <thead>\n    <tr style=\"text-align: right;\">\n      <th></th>\n      <th>Event</th>\n      <th>Time</th>\n      <th>Meet</th>\n      <th>datetime</th>\n      <th>dt_date</th>\n      <th>Swim Date</th>\n      <th>swim_date_dt</th>\n    </tr>\n  </thead>\n  <tbody>\n    <tr>\n      <th>2</th>\n      <td>100 FR</td>\n      <td>01:34.4</td>\n      <td>2019 UT Legendary Pop Pent</td>\n      <td>2021-04-27 01:34:24</td>\n      <td>2019-10-12</td>\n      <td>10/12/2019</td>\n      <td>2019-10-12</td>\n    </tr>\n    <tr>\n      <th>0</th>\n      <td>100 FR</td>\n      <td>01:28.4</td>\n      <td>2019 WY JHSR Fall in the Hole</td>\n      <td>2021-04-27 01:28:24</td>\n      <td>2019-11-10</td>\n      <td>11/10/2019</td>\n      <td>2019-11-10</td>\n    </tr>\n    <tr>\n      <th>1</th>\n      <td>100 FR</td>\n      <td>01:30.1</td>\n      <td>2020 UT CHAT After State Inv</td>\n      <td>2021-04-27 01:30:06</td>\n      <td>2020-02-16</td>\n      <td>2/16/2020</td>\n      <td>2020-02-16</td>\n    </tr>\n  </tbody>\n</table>\n</div>"
     },
     "metadata": {},
     "execution_count": 9
    }
   ],
   "source": [
    "free_100 = convert_dt(free_100)\n",
    "free_100"
   ]
  },
  {
   "source": [
    "function to make plot"
   ],
   "cell_type": "markdown",
   "metadata": {}
  },
  {
   "cell_type": "code",
   "execution_count": 24,
   "metadata": {},
   "outputs": [
    {
     "output_type": "display_data",
     "data": {
      "application/vnd.plotly.v1+json": {
       "config": {
        "plotlyServerURL": "https://plotly.com"
       },
       "data": [
        {
         "alignmentgroup": "True",
         "hovertemplate": "Swim Date=10/12/2019<br>Meet=%{x}<br>datetime=%{y}<extra></extra>",
         "legendgroup": "10/12/2019",
         "marker": {
          "color": "#636efa"
         },
         "name": "10/12/2019",
         "offsetgroup": "10/12/2019",
         "orientation": "v",
         "showlegend": true,
         "textposition": "auto",
         "type": "bar",
         "x": [
          "2019 UT Legendary Pop Pent"
         ],
         "xaxis": "x",
         "y": [
          "2021-04-27T01:34:24"
         ],
         "yaxis": "y"
        },
        {
         "alignmentgroup": "True",
         "hovertemplate": "Swim Date=11/10/2019<br>Meet=%{x}<br>datetime=%{y}<extra></extra>",
         "legendgroup": "11/10/2019",
         "marker": {
          "color": "#EF553B"
         },
         "name": "11/10/2019",
         "offsetgroup": "11/10/2019",
         "orientation": "v",
         "showlegend": true,
         "textposition": "auto",
         "type": "bar",
         "x": [
          "2019 WY JHSR Fall in the Hole"
         ],
         "xaxis": "x",
         "y": [
          "2021-04-27T01:28:24"
         ],
         "yaxis": "y"
        },
        {
         "alignmentgroup": "True",
         "hovertemplate": "Swim Date=2/16/2020<br>Meet=%{x}<br>datetime=%{y}<extra></extra>",
         "legendgroup": "2/16/2020",
         "marker": {
          "color": "#00cc96"
         },
         "name": "2/16/2020",
         "offsetgroup": "2/16/2020",
         "orientation": "v",
         "showlegend": true,
         "textposition": "auto",
         "type": "bar",
         "x": [
          "2020 UT CHAT After State Inv"
         ],
         "xaxis": "x",
         "y": [
          "2021-04-27T01:30:06"
         ],
         "yaxis": "y"
        }
       ],
       "layout": {
        "barmode": "relative",
        "height": 600,
        "legend": {
         "title": {
          "text": "Swim Date"
         },
         "tracegroupgap": 0
        },
        "template": {
         "data": {
          "bar": [
           {
            "error_x": {
             "color": "#2a3f5f"
            },
            "error_y": {
             "color": "#2a3f5f"
            },
            "marker": {
             "line": {
              "color": "#E5ECF6",
              "width": 0.5
             }
            },
            "type": "bar"
           }
          ],
          "barpolar": [
           {
            "marker": {
             "line": {
              "color": "#E5ECF6",
              "width": 0.5
             }
            },
            "type": "barpolar"
           }
          ],
          "carpet": [
           {
            "aaxis": {
             "endlinecolor": "#2a3f5f",
             "gridcolor": "white",
             "linecolor": "white",
             "minorgridcolor": "white",
             "startlinecolor": "#2a3f5f"
            },
            "baxis": {
             "endlinecolor": "#2a3f5f",
             "gridcolor": "white",
             "linecolor": "white",
             "minorgridcolor": "white",
             "startlinecolor": "#2a3f5f"
            },
            "type": "carpet"
           }
          ],
          "choropleth": [
           {
            "colorbar": {
             "outlinewidth": 0,
             "ticks": ""
            },
            "type": "choropleth"
           }
          ],
          "contour": [
           {
            "colorbar": {
             "outlinewidth": 0,
             "ticks": ""
            },
            "colorscale": [
             [
              0,
              "#0d0887"
             ],
             [
              0.1111111111111111,
              "#46039f"
             ],
             [
              0.2222222222222222,
              "#7201a8"
             ],
             [
              0.3333333333333333,
              "#9c179e"
             ],
             [
              0.4444444444444444,
              "#bd3786"
             ],
             [
              0.5555555555555556,
              "#d8576b"
             ],
             [
              0.6666666666666666,
              "#ed7953"
             ],
             [
              0.7777777777777778,
              "#fb9f3a"
             ],
             [
              0.8888888888888888,
              "#fdca26"
             ],
             [
              1,
              "#f0f921"
             ]
            ],
            "type": "contour"
           }
          ],
          "contourcarpet": [
           {
            "colorbar": {
             "outlinewidth": 0,
             "ticks": ""
            },
            "type": "contourcarpet"
           }
          ],
          "heatmap": [
           {
            "colorbar": {
             "outlinewidth": 0,
             "ticks": ""
            },
            "colorscale": [
             [
              0,
              "#0d0887"
             ],
             [
              0.1111111111111111,
              "#46039f"
             ],
             [
              0.2222222222222222,
              "#7201a8"
             ],
             [
              0.3333333333333333,
              "#9c179e"
             ],
             [
              0.4444444444444444,
              "#bd3786"
             ],
             [
              0.5555555555555556,
              "#d8576b"
             ],
             [
              0.6666666666666666,
              "#ed7953"
             ],
             [
              0.7777777777777778,
              "#fb9f3a"
             ],
             [
              0.8888888888888888,
              "#fdca26"
             ],
             [
              1,
              "#f0f921"
             ]
            ],
            "type": "heatmap"
           }
          ],
          "heatmapgl": [
           {
            "colorbar": {
             "outlinewidth": 0,
             "ticks": ""
            },
            "colorscale": [
             [
              0,
              "#0d0887"
             ],
             [
              0.1111111111111111,
              "#46039f"
             ],
             [
              0.2222222222222222,
              "#7201a8"
             ],
             [
              0.3333333333333333,
              "#9c179e"
             ],
             [
              0.4444444444444444,
              "#bd3786"
             ],
             [
              0.5555555555555556,
              "#d8576b"
             ],
             [
              0.6666666666666666,
              "#ed7953"
             ],
             [
              0.7777777777777778,
              "#fb9f3a"
             ],
             [
              0.8888888888888888,
              "#fdca26"
             ],
             [
              1,
              "#f0f921"
             ]
            ],
            "type": "heatmapgl"
           }
          ],
          "histogram": [
           {
            "marker": {
             "colorbar": {
              "outlinewidth": 0,
              "ticks": ""
             }
            },
            "type": "histogram"
           }
          ],
          "histogram2d": [
           {
            "colorbar": {
             "outlinewidth": 0,
             "ticks": ""
            },
            "colorscale": [
             [
              0,
              "#0d0887"
             ],
             [
              0.1111111111111111,
              "#46039f"
             ],
             [
              0.2222222222222222,
              "#7201a8"
             ],
             [
              0.3333333333333333,
              "#9c179e"
             ],
             [
              0.4444444444444444,
              "#bd3786"
             ],
             [
              0.5555555555555556,
              "#d8576b"
             ],
             [
              0.6666666666666666,
              "#ed7953"
             ],
             [
              0.7777777777777778,
              "#fb9f3a"
             ],
             [
              0.8888888888888888,
              "#fdca26"
             ],
             [
              1,
              "#f0f921"
             ]
            ],
            "type": "histogram2d"
           }
          ],
          "histogram2dcontour": [
           {
            "colorbar": {
             "outlinewidth": 0,
             "ticks": ""
            },
            "colorscale": [
             [
              0,
              "#0d0887"
             ],
             [
              0.1111111111111111,
              "#46039f"
             ],
             [
              0.2222222222222222,
              "#7201a8"
             ],
             [
              0.3333333333333333,
              "#9c179e"
             ],
             [
              0.4444444444444444,
              "#bd3786"
             ],
             [
              0.5555555555555556,
              "#d8576b"
             ],
             [
              0.6666666666666666,
              "#ed7953"
             ],
             [
              0.7777777777777778,
              "#fb9f3a"
             ],
             [
              0.8888888888888888,
              "#fdca26"
             ],
             [
              1,
              "#f0f921"
             ]
            ],
            "type": "histogram2dcontour"
           }
          ],
          "mesh3d": [
           {
            "colorbar": {
             "outlinewidth": 0,
             "ticks": ""
            },
            "type": "mesh3d"
           }
          ],
          "parcoords": [
           {
            "line": {
             "colorbar": {
              "outlinewidth": 0,
              "ticks": ""
             }
            },
            "type": "parcoords"
           }
          ],
          "pie": [
           {
            "automargin": true,
            "type": "pie"
           }
          ],
          "scatter": [
           {
            "marker": {
             "colorbar": {
              "outlinewidth": 0,
              "ticks": ""
             }
            },
            "type": "scatter"
           }
          ],
          "scatter3d": [
           {
            "line": {
             "colorbar": {
              "outlinewidth": 0,
              "ticks": ""
             }
            },
            "marker": {
             "colorbar": {
              "outlinewidth": 0,
              "ticks": ""
             }
            },
            "type": "scatter3d"
           }
          ],
          "scattercarpet": [
           {
            "marker": {
             "colorbar": {
              "outlinewidth": 0,
              "ticks": ""
             }
            },
            "type": "scattercarpet"
           }
          ],
          "scattergeo": [
           {
            "marker": {
             "colorbar": {
              "outlinewidth": 0,
              "ticks": ""
             }
            },
            "type": "scattergeo"
           }
          ],
          "scattergl": [
           {
            "marker": {
             "colorbar": {
              "outlinewidth": 0,
              "ticks": ""
             }
            },
            "type": "scattergl"
           }
          ],
          "scattermapbox": [
           {
            "marker": {
             "colorbar": {
              "outlinewidth": 0,
              "ticks": ""
             }
            },
            "type": "scattermapbox"
           }
          ],
          "scatterpolar": [
           {
            "marker": {
             "colorbar": {
              "outlinewidth": 0,
              "ticks": ""
             }
            },
            "type": "scatterpolar"
           }
          ],
          "scatterpolargl": [
           {
            "marker": {
             "colorbar": {
              "outlinewidth": 0,
              "ticks": ""
             }
            },
            "type": "scatterpolargl"
           }
          ],
          "scatterternary": [
           {
            "marker": {
             "colorbar": {
              "outlinewidth": 0,
              "ticks": ""
             }
            },
            "type": "scatterternary"
           }
          ],
          "surface": [
           {
            "colorbar": {
             "outlinewidth": 0,
             "ticks": ""
            },
            "colorscale": [
             [
              0,
              "#0d0887"
             ],
             [
              0.1111111111111111,
              "#46039f"
             ],
             [
              0.2222222222222222,
              "#7201a8"
             ],
             [
              0.3333333333333333,
              "#9c179e"
             ],
             [
              0.4444444444444444,
              "#bd3786"
             ],
             [
              0.5555555555555556,
              "#d8576b"
             ],
             [
              0.6666666666666666,
              "#ed7953"
             ],
             [
              0.7777777777777778,
              "#fb9f3a"
             ],
             [
              0.8888888888888888,
              "#fdca26"
             ],
             [
              1,
              "#f0f921"
             ]
            ],
            "type": "surface"
           }
          ],
          "table": [
           {
            "cells": {
             "fill": {
              "color": "#EBF0F8"
             },
             "line": {
              "color": "white"
             }
            },
            "header": {
             "fill": {
              "color": "#C8D4E3"
             },
             "line": {
              "color": "white"
             }
            },
            "type": "table"
           }
          ]
         },
         "layout": {
          "annotationdefaults": {
           "arrowcolor": "#2a3f5f",
           "arrowhead": 0,
           "arrowwidth": 1
          },
          "autotypenumbers": "strict",
          "coloraxis": {
           "colorbar": {
            "outlinewidth": 0,
            "ticks": ""
           }
          },
          "colorscale": {
           "diverging": [
            [
             0,
             "#8e0152"
            ],
            [
             0.1,
             "#c51b7d"
            ],
            [
             0.2,
             "#de77ae"
            ],
            [
             0.3,
             "#f1b6da"
            ],
            [
             0.4,
             "#fde0ef"
            ],
            [
             0.5,
             "#f7f7f7"
            ],
            [
             0.6,
             "#e6f5d0"
            ],
            [
             0.7,
             "#b8e186"
            ],
            [
             0.8,
             "#7fbc41"
            ],
            [
             0.9,
             "#4d9221"
            ],
            [
             1,
             "#276419"
            ]
           ],
           "sequential": [
            [
             0,
             "#0d0887"
            ],
            [
             0.1111111111111111,
             "#46039f"
            ],
            [
             0.2222222222222222,
             "#7201a8"
            ],
            [
             0.3333333333333333,
             "#9c179e"
            ],
            [
             0.4444444444444444,
             "#bd3786"
            ],
            [
             0.5555555555555556,
             "#d8576b"
            ],
            [
             0.6666666666666666,
             "#ed7953"
            ],
            [
             0.7777777777777778,
             "#fb9f3a"
            ],
            [
             0.8888888888888888,
             "#fdca26"
            ],
            [
             1,
             "#f0f921"
            ]
           ],
           "sequentialminus": [
            [
             0,
             "#0d0887"
            ],
            [
             0.1111111111111111,
             "#46039f"
            ],
            [
             0.2222222222222222,
             "#7201a8"
            ],
            [
             0.3333333333333333,
             "#9c179e"
            ],
            [
             0.4444444444444444,
             "#bd3786"
            ],
            [
             0.5555555555555556,
             "#d8576b"
            ],
            [
             0.6666666666666666,
             "#ed7953"
            ],
            [
             0.7777777777777778,
             "#fb9f3a"
            ],
            [
             0.8888888888888888,
             "#fdca26"
            ],
            [
             1,
             "#f0f921"
            ]
           ]
          },
          "colorway": [
           "#636efa",
           "#EF553B",
           "#00cc96",
           "#ab63fa",
           "#FFA15A",
           "#19d3f3",
           "#FF6692",
           "#B6E880",
           "#FF97FF",
           "#FECB52"
          ],
          "font": {
           "color": "#2a3f5f"
          },
          "geo": {
           "bgcolor": "white",
           "lakecolor": "white",
           "landcolor": "#E5ECF6",
           "showlakes": true,
           "showland": true,
           "subunitcolor": "white"
          },
          "hoverlabel": {
           "align": "left"
          },
          "hovermode": "closest",
          "mapbox": {
           "style": "light"
          },
          "paper_bgcolor": "white",
          "plot_bgcolor": "#E5ECF6",
          "polar": {
           "angularaxis": {
            "gridcolor": "white",
            "linecolor": "white",
            "ticks": ""
           },
           "bgcolor": "#E5ECF6",
           "radialaxis": {
            "gridcolor": "white",
            "linecolor": "white",
            "ticks": ""
           }
          },
          "scene": {
           "xaxis": {
            "backgroundcolor": "#E5ECF6",
            "gridcolor": "white",
            "gridwidth": 2,
            "linecolor": "white",
            "showbackground": true,
            "ticks": "",
            "zerolinecolor": "white"
           },
           "yaxis": {
            "backgroundcolor": "#E5ECF6",
            "gridcolor": "white",
            "gridwidth": 2,
            "linecolor": "white",
            "showbackground": true,
            "ticks": "",
            "zerolinecolor": "white"
           },
           "zaxis": {
            "backgroundcolor": "#E5ECF6",
            "gridcolor": "white",
            "gridwidth": 2,
            "linecolor": "white",
            "showbackground": true,
            "ticks": "",
            "zerolinecolor": "white"
           }
          },
          "shapedefaults": {
           "line": {
            "color": "#2a3f5f"
           }
          },
          "ternary": {
           "aaxis": {
            "gridcolor": "white",
            "linecolor": "white",
            "ticks": ""
           },
           "baxis": {
            "gridcolor": "white",
            "linecolor": "white",
            "ticks": ""
           },
           "bgcolor": "#E5ECF6",
           "caxis": {
            "gridcolor": "white",
            "linecolor": "white",
            "ticks": ""
           }
          },
          "title": {
           "x": 0.05
          },
          "xaxis": {
           "automargin": true,
           "gridcolor": "white",
           "linecolor": "white",
           "ticks": "",
           "title": {
            "standoff": 15
           },
           "zerolinecolor": "white",
           "zerolinewidth": 2
          },
          "yaxis": {
           "automargin": true,
           "gridcolor": "white",
           "linecolor": "white",
           "ticks": "",
           "title": {
            "standoff": 15
           },
           "zerolinecolor": "white",
           "zerolinewidth": 2
          }
         }
        },
        "title": {
         "text": "100 Free"
        },
        "width": 800,
        "xaxis": {
         "anchor": "y",
         "domain": [
          0,
          1
         ],
         "title": {
          "text": "Meet"
         }
        },
        "yaxis": {
         "anchor": "x",
         "domain": [
          0,
          1
         ],
         "range": [
          "2021-04-27 1:20:00",
          "2021-04-27 1:36:00"
         ],
         "title": {
          "text": "datetime"
         }
        }
       }
      }
     },
     "metadata": {}
    }
   ],
   "source": [
    "def make_plot(x):\n",
    "    '''function to make plot'''\n",
    "    fig = px.bar(x, x='Meet', y=\"datetime\",color=\"Swim Date\",title=\"100 Free\")\n",
    "    fig.update_layout(yaxis_range=['2021-04-27 1:20:00' , '2021-04-27 1:36:00'], width=800, height=600)\n",
    "    fig.show()\n",
    "    py.plot(fig, filename = '100 FR', auto_open=True)\n",
    "    return\n",
    "make_plot(free_100)"
   ]
  },
  {
   "cell_type": "code",
   "execution_count": null,
   "metadata": {},
   "outputs": [],
   "source": []
  },
  {
   "source": [
    "## 100 Freestyle"
   ],
   "cell_type": "markdown",
   "metadata": {}
  },
  {
   "cell_type": "code",
   "execution_count": null,
   "metadata": {},
   "outputs": [],
   "source": [
    "df = pd.read(\"100_free_converted.csv\")\n",
    "df['datetime'] = pd.to_datetime(df['Time'])\n",
    "df['swim_date_dt'] = pd.to_datetime(df['Swim Date'])\n",
    "df = df.sort_values(by = \"swim_date_dt\")"
   ]
  }
 ]
}